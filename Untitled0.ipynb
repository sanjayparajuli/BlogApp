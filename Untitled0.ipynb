{
  "cells": [
    {
      "cell_type": "markdown",
      "metadata": {
        "id": "view-in-github",
        "colab_type": "text"
      },
      "source": [
        "<a href=\"https://colab.research.google.com/github/sanjayparajuli/BlogApp/blob/main/Untitled0.ipynb\" target=\"_parent\"><img src=\"https://colab.research.google.com/assets/colab-badge.svg\" alt=\"Open In Colab\"/></a>"
      ]
    },
    {
      "cell_type": "code",
      "execution_count": null,
      "metadata": {
        "colab": {
          "base_uri": "https://localhost:8080/"
        },
        "id": "KQcNQ7e8UXCD",
        "outputId": "27bba855-8779-4439-a146-3cdae9d8700e"
      },
      "outputs": [
        {
          "name": "stdout",
          "output_type": "stream",
          "text": [
            "doe\n",
            "['foo', 'bar', 1, 2, 'doe']\n",
            "doe\n",
            "['foo', 'bar', 1, 2, None]\n",
            "2\n"
          ]
        }
      ],
      "source": [
        "# class Stack:\n",
        "#   def __init__(self, item):\n",
        "#     self.size = 0\n",
        "#     self.item = [None] * item\n",
        "\n",
        "#   def push(self, item):\n",
        "#     self.item[self.size] = item\n",
        "#     self.size += 1\n",
        "\n",
        "#   def pop(self):\n",
        "#     temp = self.item[self.size-1]\n",
        "#     self.item[self.size-1] = None\n",
        "#     self.size -= 1\n",
        "#     return temp\n",
        "\n",
        "#   def peek(self):\n",
        "#     next_itm = self.item[self.size-1]\n",
        "#     return next_itm\n",
        "\n",
        "\n",
        "\n",
        "\n",
        "\n",
        "# a = Stack(5)\n",
        "# a.push('foo')\n",
        "# a.push('bar')\n",
        "# a.push(1)\n",
        "# a.push(2)\n",
        "# a.push('doe')\n",
        "# y = a.peek()\n",
        "# print(y)\n",
        "# print(a.item)\n",
        "# x = a.pop()\n",
        "# print(x)\n",
        "# print(a.item)\n",
        "# z = a.peek()\n",
        "# print(z)\n"
      ]
    },
    {
      "cell_type": "code",
      "execution_count": null,
      "metadata": {
        "colab": {
          "base_uri": "https://localhost:8080/"
        },
        "id": "2S-bAjKwon5F",
        "outputId": "7227d58b-731c-486d-8b01-0399ece22971"
      },
      "outputs": [
        {
          "data": {
            "text/plain": [
              "6"
            ]
          },
          "execution_count": 2,
          "metadata": {},
          "output_type": "execute_result"
        }
      ],
      "source": [
        "a = [1, 2, 3, 6]\n",
        "a.pop()"
      ]
    },
    {
      "cell_type": "code",
      "execution_count": null,
      "metadata": {
        "colab": {
          "base_uri": "https://localhost:8080/"
        },
        "id": "HhbFI_4Gon0N",
        "outputId": "78885347-7f2b-4ff7-de12-af8f7db34a9e"
      },
      "outputs": [
        {
          "name": "stdout",
          "output_type": "stream",
          "text": [
            "The item in an array: ['may', 'the', 'force', 'be', 'with', 'you']\n",
            "you\n",
            "The item in an array: ['may', 'the', 'force', 'be', 'with']\n",
            "with\n",
            "5\n",
            "The item in an array: ['may', 'the', 'force', 'be', 'with']\n"
          ]
        }
      ],
      "source": [
        "class Stack:\n",
        "  def __init__(self):\n",
        "    self.item = []\n",
        "\n",
        "  def isEmpty(self):\n",
        "    return len(self.item) == 0\n",
        "\n",
        "\n",
        "  def push(self, value):\n",
        "    self.item.append(value)\n",
        "\n",
        "  def pop(self):\n",
        "    if self.isEmpty():\n",
        "      return ('Array is empty')\n",
        "    temp = self.item[len(self.item)-1]\n",
        "    self.item.pop()\n",
        "    return temp\n",
        "\n",
        "  def peek(self):\n",
        "    if self.isEmpty():\n",
        "      return ('Array is empty')\n",
        "\n",
        "    top = self.item[len(self.item)-1]\n",
        "    return top\n",
        "\n",
        "  def size(self):\n",
        "    return len(self.item)\n",
        "\n",
        "  def __str__(self):\n",
        "    return f'The item in an array: { self.item}'\n",
        "\n",
        "\n",
        "\n",
        "stack = Stack()\n",
        "for word in ['may', 'the', 'force', 'be', 'with', 'you']:\n",
        "  stack.push(word)\n",
        "print(stack)\n",
        "a = stack.pop()\n",
        "print(a)\n",
        "print(stack)\n",
        "print(stack.peek())\n",
        "print(stack.size())\n",
        "print(stack)"
      ]
    },
    {
      "cell_type": "code",
      "execution_count": null,
      "metadata": {
        "id": "CQ3vFk4NonvZ"
      },
      "outputs": [],
      "source": []
    },
    {
      "cell_type": "code",
      "execution_count": null,
      "metadata": {
        "colab": {
          "base_uri": "https://localhost:8080/"
        },
        "id": "e2rilgnfonqu",
        "outputId": "09436fd7-c04a-4e9e-9be8-10bef4f65f12"
      },
      "outputs": [
        {
          "name": "stdout",
          "output_type": "stream",
          "text": [
            "[0, 1, 2, 3, 4]\n"
          ]
        }
      ],
      "source": [
        "a = []\n",
        "for i in range(5):\n",
        "  a.append(i)\n",
        "print(a)"
      ]
    },
    {
      "cell_type": "code",
      "execution_count": null,
      "metadata": {
        "colab": {
          "base_uri": "https://localhost:8080/"
        },
        "id": "HET8JTTAonmW",
        "outputId": "fb4dad8d-4369-45e9-85a9-edbd71791437"
      },
      "outputs": [
        {
          "data": {
            "text/plain": [
              "10"
            ]
          },
          "execution_count": 5,
          "metadata": {},
          "output_type": "execute_result"
        }
      ],
      "source": [
        "# def rec_python(item):\n",
        "#   s = len(item)\n",
        "#   total = 0\n",
        "#   for i in range(s, 0, -1):\n",
        "#     total += i\n",
        "#   return total\n",
        "# n = [10, 20, 40, 50]\n",
        "# rec_python(n)"
      ]
    },
    {
      "cell_type": "code",
      "execution_count": null,
      "metadata": {
        "colab": {
          "base_uri": "https://localhost:8080/"
        },
        "id": "pCNaIwHConh8",
        "outputId": "d6d91310-f957-4f2e-803e-f730533075d7"
      },
      "outputs": [
        {
          "data": {
            "text/plain": [
              "15"
            ]
          },
          "execution_count": 6,
          "metadata": {},
          "output_type": "execute_result"
        }
      ],
      "source": [
        "def pyth_adding(item):\n",
        "  total = 0\n",
        "  for i in range(item, 0, -1):\n",
        "    total += i\n",
        "  return total\n",
        "pyth_adding(5)"
      ]
    },
    {
      "cell_type": "code",
      "execution_count": null,
      "metadata": {
        "colab": {
          "base_uri": "https://localhost:8080/"
        },
        "id": "EbtG-DSXonde",
        "outputId": "93a3cc33-b06f-4a29-d19f-803faa7625e6"
      },
      "outputs": [
        {
          "name": "stdout",
          "output_type": "stream",
          "text": [
            "5\n",
            "4\n",
            "3\n",
            "2\n",
            "1\n"
          ]
        }
      ],
      "source": [
        "for i in range(5,0,-1):\n",
        "  print(i)"
      ]
    },
    {
      "cell_type": "code",
      "execution_count": null,
      "metadata": {
        "colab": {
          "base_uri": "https://localhost:8080/"
        },
        "id": "htqi1_JHonYO",
        "outputId": "8903d455-3374-4ba0-bbfa-2316e1db9f8b"
      },
      "outputs": [
        {
          "data": {
            "text/plain": [
              "15"
            ]
          },
          "execution_count": 16,
          "metadata": {},
          "output_type": "execute_result"
        }
      ],
      "source": [
        "def triangular(value):\n",
        "  if value < 1:\n",
        "    return 0\n",
        "  return (value + triangular(value -1))\n",
        "triangular(5)"
      ]
    },
    {
      "cell_type": "code",
      "execution_count": null,
      "metadata": {
        "id": "HmXhqgLeqQJH"
      },
      "outputs": [],
      "source": []
    },
    {
      "cell_type": "code",
      "execution_count": null,
      "metadata": {
        "colab": {
          "base_uri": "https://localhost:8080/"
        },
        "id": "ogO3EO_DonTc",
        "outputId": "717574b0-971a-4c4d-cb62-a5aba9971ea7"
      },
      "outputs": [
        {
          "data": {
            "text/plain": [
              "True"
            ]
          },
          "execution_count": 18,
          "metadata": {},
          "output_type": "execute_result"
        }
      ],
      "source": [
        "0 < 1"
      ]
    },
    {
      "cell_type": "code",
      "execution_count": null,
      "metadata": {
        "colab": {
          "base_uri": "https://localhost:8080/"
        },
        "id": "lfBPb2eaonOR",
        "outputId": "577a224a-4371-4b0a-c6af-c27e3f7dea14"
      },
      "outputs": [
        {
          "data": {
            "text/plain": [
              "120"
            ]
          },
          "execution_count": 21,
          "metadata": {},
          "output_type": "execute_result"
        }
      ],
      "source": [
        "def fact_orial(num):\n",
        "  if num < 1:\n",
        "    return 1\n",
        "  return num * fact_orial(num-1)\n",
        "fact_orial(5)"
      ]
    },
    {
      "cell_type": "code",
      "execution_count": null,
      "metadata": {
        "colab": {
          "base_uri": "https://localhost:8080/"
        },
        "id": "d0jKmDZjonJa",
        "outputId": "73e24ae6-8c9e-49d6-dc85-7472e1e8f17b"
      },
      "outputs": [
        {
          "name": "stdout",
          "output_type": "stream",
          "text": [
            "t\n",
            "at\n",
            "ta\n"
          ]
        },
        {
          "data": {
            "text/plain": [
              "['cat', 'act', 'atc', 'cta', 'tca', 'tac']"
            ]
          },
          "execution_count": 30,
          "metadata": {},
          "output_type": "execute_result"
        }
      ],
      "source": [
        "# def anagrams(word):\n",
        "#   if len(word) <= 1:\n",
        "#     return [word]\n",
        "#   result = []\n",
        "#   for i in anagrams(word[1:]):\n",
        "#     for j in range(len(i) +1):\n",
        "#       result.append(i[:j] + word[0] + i[j:])\n",
        "#   return result\n",
        "# anagrams('cat')"
      ]
    },
    {
      "cell_type": "code",
      "execution_count": null,
      "metadata": {
        "colab": {
          "base_uri": "https://localhost:8080/"
        },
        "id": "MmV0S13GznNk",
        "outputId": "db87e546-da7e-4ad0-8de2-907bd191797b"
      },
      "outputs": [
        {
          "data": {
            "text/plain": [
              "['ca1', 'ac1', 'a1c', 'c1a', '1ca', '1ac']"
            ]
          },
          "execution_count": 38,
          "metadata": {},
          "output_type": "execute_result"
        }
      ],
      "source": [
        "def anagrams(word):\n",
        "  if len(word) <= 1:\n",
        "    return str(1)\n",
        "  result = []\n",
        "  for i in anagrams(word[1:]):\n",
        "    for j in range(len(i)+1):\n",
        "      result.append(i[:j]+word[0]+ i[j:])\n",
        "  return result\n",
        "anagrams('cat')"
      ]
    },
    {
      "cell_type": "code",
      "execution_count": null,
      "metadata": {
        "colab": {
          "base_uri": "https://localhost:8080/"
        },
        "id": "BO1xHC0PonD5",
        "outputId": "b7ac4231-d2ea-442d-e0a4-4d136f93f485"
      },
      "outputs": [
        {
          "name": "stdout",
          "output_type": "stream",
          "text": [
            "['w']\n"
          ]
        }
      ],
      "source": [
        "letter = 'w'\n",
        "if len(letter) <= 1:\n",
        "  print([letter])"
      ]
    },
    {
      "cell_type": "code",
      "execution_count": null,
      "metadata": {
        "id": "o1jbfGlPom-r"
      },
      "outputs": [],
      "source": []
    },
    {
      "cell_type": "code",
      "execution_count": null,
      "metadata": {
        "colab": {
          "base_uri": "https://localhost:8080/"
        },
        "id": "553vFoD2om55",
        "outputId": "77a11e96-2f20-41da-f782-76024cfa0b29"
      },
      "outputs": [
        {
          "name": "stdout",
          "output_type": "stream",
          "text": [
            "['t']\n",
            "['a']\n",
            "['a']\n",
            "['t']\n"
          ]
        }
      ],
      "source": [
        "# for i in ('ta' + 'at'):\n",
        "#   print(list(i))"
      ]
    },
    {
      "cell_type": "code",
      "execution_count": null,
      "metadata": {
        "colab": {
          "base_uri": "https://localhost:8080/",
          "height": 36
        },
        "id": "wOaBhGunom1J",
        "outputId": "6a5adf57-5ac6-4307-912c-e79dfcdde219"
      },
      "outputs": [
        {
          "data": {
            "application/vnd.google.colaboratory.intrinsic+json": {
              "type": "string"
            },
            "text/plain": [
              "'Out of list'"
            ]
          },
          "execution_count": 41,
          "metadata": {},
          "output_type": "execute_result"
        }
      ],
      "source": [
        "def binary_search(item, target):\n",
        "  n = len(item)\n",
        "  lo = 0\n",
        "  hi = n-1\n",
        "  while lo <= hi:\n",
        "    mid = (lo+hi) // 2\n",
        "    if item[mid] == target:\n",
        "      return mid\n",
        "    elif item[mid] < target:\n",
        "      lo = mid+1\n",
        "    else:\n",
        "      hi = mid - 1\n",
        "    return 'Out of list'\n",
        "item = [1, 12, 14, 15]\n",
        "target = 19\n",
        "binary_search(item, target)\n"
      ]
    },
    {
      "cell_type": "code",
      "execution_count": null,
      "metadata": {
        "id": "J71npgOUomwU"
      },
      "outputs": [],
      "source": [
        "def find(self, item, key, lo=0, hi=None):\n",
        "  n = len(item)\n",
        "  if hi is None:\n",
        "    hi = n-1\n",
        "  if lo > hi:\n",
        "    return lo\n",
        "  mid = (lo+hi) // 2\n",
        "  if item"
      ]
    },
    {
      "cell_type": "markdown",
      "metadata": {
        "id": "CkLVIbGEFr4W"
      },
      "source": []
    },
    {
      "cell_type": "code",
      "execution_count": null,
      "metadata": {
        "colab": {
          "base_uri": "https://localhost:8080/"
        },
        "id": "PvaNc57gomrm",
        "outputId": "79025dbc-ffa8-424b-8d92-32b4656fdac0"
      },
      "outputs": [
        {
          "data": {
            "text/plain": [
              "-1"
            ]
          },
          "execution_count": 2,
          "metadata": {},
          "output_type": "execute_result"
        }
      ],
      "source": [
        "def binary_search_recursive(arr, target, lo, high):\n",
        "  if lo > high:\n",
        "    return -1\n",
        "\n",
        "  mid = (lo + high) // 2\n",
        "\n",
        "  if arr[mid] == target:\n",
        "    return mid\n",
        "  elif target < arr[mid]:\n",
        "    return binary_search_recursive(arr, target, lo, mid-1)\n",
        "  else:\n",
        "    return binary_search_recursive(arr, target, mid+1, high)\n",
        "arr = [1, 2, 5, 7, 9, 11]\n",
        "target = 12\n",
        "binary_search_recursive(arr, target, 0, len(arr)-1)"
      ]
    },
    {
      "cell_type": "code",
      "execution_count": null,
      "metadata": {
        "colab": {
          "base_uri": "https://localhost:8080/"
        },
        "id": "rn-vWtihommi",
        "outputId": "1af22c04-b8f5-486b-a28e-057ba3984802"
      },
      "outputs": [
        {
          "name": "stdout",
          "output_type": "stream",
          "text": [
            "---- 0\n",
            "-\n",
            "--\n",
            "-\n",
            "---\n",
            "-\n",
            "--\n",
            "-\n",
            "---- 1\n",
            "-\n",
            "--\n",
            "-\n",
            "---\n",
            "-\n",
            "--\n",
            "-\n",
            "---- 2\n"
          ]
        }
      ],
      "source": [
        "def draw_line(tick_length, tick_label=''):\n",
        "  line = '-' * tick_length\n",
        "  if tick_label:\n",
        "    line += ' '+ tick_label\n",
        "  print(line)\n",
        "\n",
        "def draw_interval(center_length):\n",
        "  if center_length > 0:\n",
        "    draw_interval(center_length - 1)\n",
        "    draw_line(center_length)\n",
        "    draw_interval(center_length - 1)\n",
        "\n",
        "def draw_ruler(num_inches, major_length):\n",
        "  draw_line(major_length, '0')\n",
        "  for j in range(1, 1 + num_inches):\n",
        "    draw_interval(major_length - 1)\n",
        "    draw_line(major_length, str(j))\n",
        "draw_ruler(2, 4)"
      ]
    },
    {
      "cell_type": "code",
      "execution_count": null,
      "metadata": {
        "colab": {
          "base_uri": "https://localhost:8080/",
          "height": 36
        },
        "id": "FzNX539Yomhs",
        "outputId": "8713c0bf-9c12-4643-d76a-ce1655641398"
      },
      "outputs": [
        {
          "data": {
            "application/vnd.google.colaboratory.intrinsic+json": {
              "type": "string"
            },
            "text/plain": [
              "'---- 0'"
            ]
          },
          "execution_count": 5,
          "metadata": {},
          "output_type": "execute_result"
        }
      ],
      "source": [
        "a = '----'+' '+'0'\n",
        "a"
      ]
    },
    {
      "cell_type": "code",
      "execution_count": null,
      "metadata": {
        "colab": {
          "base_uri": "https://localhost:8080/"
        },
        "id": "nehZh4T1omcm",
        "outputId": "08813e99-83a1-4416-c1d1-1791bcbd593b"
      },
      "outputs": [
        {
          "data": {
            "text/plain": [
              "False"
            ]
          },
          "execution_count": 6,
          "metadata": {},
          "output_type": "execute_result"
        }
      ],
      "source": [
        "0>0"
      ]
    },
    {
      "cell_type": "code",
      "execution_count": null,
      "metadata": {
        "colab": {
          "base_uri": "https://localhost:8080/"
        },
        "id": "cH7G8l91omXj",
        "outputId": "6aba2ba4-0b3d-4988-9e09-62d07f187355"
      },
      "outputs": [
        {
          "data": {
            "text/plain": [
              "False"
            ]
          },
          "execution_count": 7,
          "metadata": {},
          "output_type": "execute_result"
        }
      ],
      "source": [
        "0 < 0"
      ]
    },
    {
      "cell_type": "code",
      "execution_count": null,
      "metadata": {
        "colab": {
          "base_uri": "https://localhost:8080/"
        },
        "id": "ed_QmtrComTG",
        "outputId": "61207385-ec62-4b2a-8a6d-4ed62a485923"
      },
      "outputs": [
        {
          "data": {
            "text/plain": [
              "False"
            ]
          },
          "execution_count": 8,
          "metadata": {},
          "output_type": "execute_result"
        }
      ],
      "source": [
        "1 < 1"
      ]
    },
    {
      "cell_type": "code",
      "execution_count": null,
      "metadata": {
        "colab": {
          "base_uri": "https://localhost:8080/"
        },
        "id": "QYHAA7SkomOy",
        "outputId": "d0e0feba-6751-426c-824c-3d071051c347"
      },
      "outputs": [
        {
          "name": "stdout",
          "output_type": "stream",
          "text": [
            "Move disk 1 from A to C\n",
            "Move disk 2 from A to B\n",
            "Move disk 1 from C to B\n",
            "Move disk 3 from A to C\n",
            "Move disk 1 from B to A\n",
            "Move disk 2 from B to C\n",
            "Move disk 1 from A to C\n"
          ]
        }
      ],
      "source": [
        "def tower_of_hanoi(n, source, target, auxiliary):\n",
        "    if n == 1:\n",
        "        print(f\"Move disk 1 from {source} to {target}\")\n",
        "        return\n",
        "    tower_of_hanoi(n - 1, source, auxiliary, target)\n",
        "    print(f\"Move disk {n} from {source} to {target}\")\n",
        "    tower_of_hanoi(n - 1, auxiliary, target, source)\n",
        "\n",
        "# Example usage:\n",
        "tower_of_hanoi(3, 'A', 'C', 'B')\n"
      ]
    },
    {
      "cell_type": "code",
      "execution_count": null,
      "metadata": {
        "id": "BMsC_eE_ztW5"
      },
      "outputs": [],
      "source": [
        "class Node:\n",
        "  def __init__(self, data=None):\n",
        "    self.data = data\n",
        "    self.next = None\n",
        "\n",
        "n1 = Node('egg')\n",
        "n2 = Node()"
      ]
    },
    {
      "cell_type": "code",
      "execution_count": null,
      "metadata": {
        "colab": {
          "base_uri": "https://localhost:8080/",
          "height": 382
        },
        "id": "x22BoydXomJ3",
        "outputId": "05f6398c-21fa-4944-9794-41b9ed5bbedf"
      },
      "outputs": [
        {
          "output_type": "stream",
          "name": "stderr",
          "text": [
            "/tmp/ipython-input-4033256831.py:49: UserWarning: Creating legend with loc=\"best\" can be slow with large amounts of data.\n",
            "  plt.tight_layout()\n",
            "/usr/local/lib/python3.11/dist-packages/IPython/core/pylabtools.py:151: UserWarning: Creating legend with loc=\"best\" can be slow with large amounts of data.\n",
            "  fig.canvas.print_figure(bytes_io, **kw)\n"
          ]
        },
        {
          "output_type": "display_data",
          "data": {
            "text/plain": [
              "<Figure size 1200x500 with 2 Axes>"
            ],
            "image/png": "[encoded data removed]"
          },
          "metadata": {}
        }
      ],
      "source": [
        "import random\n",
        "import math\n",
        "import matplotlib.pyplot as plt\n",
        "\n",
        "def monte_carlo_pi_visual(num_points):\n",
        "    inside_x = []\n",
        "    inside_y = []\n",
        "    outside_x = []\n",
        "    outside_y = []\n",
        "    inside_circle = 0\n",
        "    estimates = []\n",
        "\n",
        "    for i in range(1, num_points + 1):\n",
        "        x, y = random.random(), random.random()\n",
        "        if x*x + y*y <= 1:\n",
        "            inside_circle += 1\n",
        "            inside_x.append(x)\n",
        "            inside_y.append(y)\n",
        "        else:\n",
        "            outside_x.append(x)\n",
        "            outside_y.append(y)\n",
        "\n",
        "        # Store the estimate at this step\n",
        "        pi_estimate = 4 * inside_circle / i\n",
        "        estimates.append(pi_estimate)\n",
        "\n",
        "    # Plot points\n",
        "    plt.figure(figsize=(12, 5))\n",
        "\n",
        "    plt.subplot(1, 2, 1)\n",
        "    plt.scatter(inside_x, inside_y, color='blue', s=1, label='Inside Circle')\n",
        "    plt.scatter(outside_x, outside_y, color='red', s=1, label='Outside Circle')\n",
        "    plt.title('Monte Carlo Points')\n",
        "    plt.xlabel('x')\n",
        "    plt.ylabel('y')\n",
        "    plt.legend()\n",
        "    plt.axis('square')\n",
        "\n",
        "    # Plot estimate convergence\n",
        "    plt.subplot(1, 2, 2)\n",
        "    plt.plot(range(1, num_points + 1), estimates, label='Estimate of π')\n",
        "    plt.axhline(y=math.pi, color='green', linestyle='--', label='True π')\n",
        "    plt.title('Estimate of π Over Iterations')\n",
        "    plt.xlabel('Number of Points')\n",
        "    plt.ylabel('π Estimate')\n",
        "    plt.legend()\n",
        "    plt.grid(True)\n",
        "\n",
        "    plt.tight_layout()\n",
        "    plt.show()\n",
        "\n",
        "# Run the visualization for 5000 points (you can change this)\n",
        "monte_carlo_pi_visual(500000)\n"
      ]
    },
    {
      "cell_type": "code",
      "execution_count": null,
      "metadata": {
        "id": "gCRT1u-VomEw",
        "colab": {
          "base_uri": "https://localhost:8080/",
          "height": 548
        },
        "outputId": "5f60e070-1ea2-41a9-f71a-5243a7346e58"
      },
      "outputs": [
        {
          "output_type": "display_data",
          "data": {
            "text/plain": [
              "<Figure size 640x480 with 1 Axes>"
            ],
            "image/png": "[encoded data removed]"
          },
          "metadata": {}
        },
        {
          "output_type": "stream",
          "name": "stdout",
          "text": [
            "Original sample mean: 164.99 cm\n",
            "Bootstrap mean of means: 164.97 cm\n",
            "Bootstrap std deviation (estimate of SE): 0.71 cm\n"
          ]
        }
      ],
      "source": [
        "import numpy as np\n",
        "import matplotlib.pyplot as plt\n",
        "\n",
        "# Suppose this is your real height data of 10,000 people (replace with actual data)\n",
        "# For demonstration, let's simulate real data by sampling from a distribution (replace this part with your real data)\n",
        "np.random.seed(42)\n",
        "heights = np.random.normal(165, 7, 10000)  # Replace with real data array\n",
        "\n",
        "def bootstrap_sample_means(data, sample_size, num_bootstrap):\n",
        "    bootstrap_means = []\n",
        "    for _ in range(num_bootstrap):\n",
        "        sample = np.random.choice(data, size=sample_size, replace=True)\n",
        "        bootstrap_means.append(np.mean(sample))\n",
        "    return bootstrap_means\n",
        "\n",
        "sample_size = 100\n",
        "num_bootstrap = 1000\n",
        "\n",
        "bootstrap_means = bootstrap_sample_means(heights, sample_size, num_bootstrap)\n",
        "\n",
        "# Plot distribution of bootstrap sample means\n",
        "plt.hist(bootstrap_means, bins=30, color='lightgreen', edgecolor='black')\n",
        "plt.title(f'Bootstrap Distribution of Sample Means\\n(sample size={sample_size}, {num_bootstrap} resamples)')\n",
        "plt.xlabel('Sample Mean Height (cm)')\n",
        "plt.ylabel('Frequency')\n",
        "plt.show()\n",
        "\n",
        "print(f\"Original sample mean: {np.mean(heights):.2f} cm\")\n",
        "print(f\"Bootstrap mean of means: {np.mean(bootstrap_means):.2f} cm\")\n",
        "print(f\"Bootstrap std deviation (estimate of SE): {np.std(bootstrap_means):.2f} cm\")\n"
      ]
    },
    {
      "cell_type": "code",
      "execution_count": null,
      "metadata": {
        "id": "4W3vhOcOomAD",
        "colab": {
          "base_uri": "https://localhost:8080/"
        },
        "outputId": "ef85f445-2f04-4e74-e111-2b5503cb6b6a"
      },
      "outputs": [
        {
          "output_type": "stream",
          "name": "stdout",
          "text": [
            "Estimated average height after 10000 simulations: 165.01 cm\n"
          ]
        }
      ],
      "source": [
        "import random\n",
        "\n",
        "# Simulate height of one person (for example, between 150 cm and 180 cm)\n",
        "def simulate_height():\n",
        "    return random.uniform(150, 180)\n",
        "\n",
        "def monte_carlo_average_height(n):\n",
        "    s = 0\n",
        "    for i in range(n):\n",
        "        r_i = simulate_height()  # Run simulation i-th time\n",
        "        s += r_i\n",
        "    m = s / n\n",
        "    return m\n",
        "\n",
        "# Run with 10,000 simulations\n",
        "n = 10000\n",
        "estimated_avg_height = monte_carlo_average_height(n)\n",
        "print(f\"Estimated average height after {n} simulations: {estimated_avg_height:.2f} cm\")\n"
      ]
    },
    {
      "cell_type": "code",
      "execution_count": null,
      "metadata": {
        "id": "5QXSvyQ0ol7C"
      },
      "outputs": [],
      "source": []
    },
    {
      "cell_type": "code",
      "execution_count": null,
      "metadata": {
        "id": "QcnnOypPol2e"
      },
      "outputs": [],
      "source": []
    },
    {
      "cell_type": "code",
      "execution_count": null,
      "metadata": {
        "id": "RTBplXDnolx1"
      },
      "outputs": [],
      "source": []
    },
    {
      "cell_type": "code",
      "execution_count": null,
      "metadata": {
        "id": "dK1-_n7holrl"
      },
      "outputs": [],
      "source": []
    },
    {
      "cell_type": "code",
      "execution_count": null,
      "metadata": {
        "id": "14jlixofoll3"
      },
      "outputs": [],
      "source": []
    },
    {
      "cell_type": "code",
      "execution_count": null,
      "metadata": {
        "id": "Os6L4ilAolhH"
      },
      "outputs": [],
      "source": []
    },
    {
      "cell_type": "code",
      "execution_count": null,
      "metadata": {
        "id": "oUDzWrK9olcX"
      },
      "outputs": [],
      "source": []
    },
    {
      "cell_type": "code",
      "execution_count": null,
      "metadata": {
        "colab": {
          "base_uri": "https://localhost:8080/"
        },
        "id": "E_IpCeI8olX3",
        "outputId": "b9435325-282b-4816-a274-8d9f4aef67bd"
      },
      "outputs": [
        {
          "data": {
            "text/plain": [
              "5.2"
            ]
          },
          "execution_count": 6,
          "metadata": {},
          "output_type": "execute_result"
        }
      ],
      "source": [
        "data = [0.04, 0.06, 0.03, 0.08, 0.05]\n",
        "n = len(data)\n",
        "sample_mean = sum(data) / n\n",
        "sample_mean * 100"
      ]
    },
    {
      "cell_type": "code",
      "execution_count": null,
      "metadata": {
        "colab": {
          "background_save": true,
          "base_uri": "https://localhost:8080/",
          "height": 1000
        },
        "id": "6ZZvemu8olO7",
        "outputId": "5789d8ca-4099-4ba7-daa0-765f96eb34e6"
      },
      "outputs": [
        {
          "data": {
            "image/png": "[encoded data removed]",
            "text/plain": [
              "<Figure size 500x800 with 1 Axes>"
            ]
          },
          "metadata": {},
          "output_type": "display_data"
        }
      ],
      "source": [
        "import matplotlib.pyplot as plt\n",
        "\n",
        "data = [0.04, 0.06, 0.03, 0.08, 0.05]\n",
        "n = len(data)\n",
        "sample_mean = sum(data) / n\n",
        "\n",
        "plt.figure(figsize=(5,8))\n",
        "plt.bar(range(5), data, color='skyblue', label='Annual Returns')\n",
        "plt.axhline(sample_mean, color='red', linestyle='--', label=f'Mean: {sample_mean*100:.2f}%')\n",
        "plt.xlabel('Year')\n",
        "plt.ylabel('Return')\n",
        "plt.title('Annual Returns with Mean')\n",
        "plt.legend()\n",
        "plt.show()\n"
      ]
    },
    {
      "cell_type": "code",
      "execution_count": null,
      "metadata": {
        "id": "RbfjgQNdolKg"
      },
      "outputs": [],
      "source": [
        "def insertion(item):\n",
        "  for i in range(1, len(item)):\n",
        "    temp = item[i]\n",
        "    j = i-1\n",
        "    while j > 0 and item[i] < temp:\n",
        "\n",
        "\n",
        "\n",
        "item = [9, 0, -12, 1, 99, -100]"
      ]
    },
    {
      "cell_type": "code",
      "execution_count": null,
      "metadata": {
        "id": "wwzytDDkolGF"
      },
      "outputs": [],
      "source": []
    },
    {
      "cell_type": "code",
      "execution_count": null,
      "metadata": {
        "id": "_ucRtJkKolCA"
      },
      "outputs": [],
      "source": []
    },
    {
      "cell_type": "code",
      "execution_count": null,
      "metadata": {
        "id": "-_rh_Hkyok9p"
      },
      "outputs": [],
      "source": []
    },
    {
      "cell_type": "code",
      "execution_count": null,
      "metadata": {
        "id": "BOHdzSTRok5T"
      },
      "outputs": [],
      "source": []
    },
    {
      "cell_type": "code",
      "execution_count": null,
      "metadata": {
        "id": "rjLPcd7Vok0C"
      },
      "outputs": [],
      "source": []
    },
    {
      "cell_type": "code",
      "execution_count": null,
      "metadata": {
        "id": "dNvGuilbokvJ"
      },
      "outputs": [],
      "source": []
    },
    {
      "cell_type": "code",
      "execution_count": null,
      "metadata": {
        "id": "AeX6ykKqokqO"
      },
      "outputs": [],
      "source": []
    },
    {
      "cell_type": "code",
      "execution_count": null,
      "metadata": {
        "id": "Y5NOx8B2okkq"
      },
      "outputs": [],
      "source": []
    },
    {
      "cell_type": "code",
      "execution_count": null,
      "metadata": {
        "id": "_S9V-lCeokfC"
      },
      "outputs": [],
      "source": []
    },
    {
      "cell_type": "code",
      "execution_count": null,
      "metadata": {
        "id": "pr_OCu4PokZ7"
      },
      "outputs": [],
      "source": []
    },
    {
      "cell_type": "code",
      "execution_count": null,
      "metadata": {
        "id": "Rx2juWxAokVR"
      },
      "outputs": [],
      "source": []
    },
    {
      "cell_type": "code",
      "execution_count": null,
      "metadata": {
        "id": "oVyfx-x0okQX"
      },
      "outputs": [],
      "source": []
    },
    {
      "cell_type": "code",
      "execution_count": null,
      "metadata": {
        "id": "G-mcmmqgokLd"
      },
      "outputs": [],
      "source": []
    },
    {
      "cell_type": "code",
      "execution_count": null,
      "metadata": {
        "id": "O6jWpYNFokG-"
      },
      "outputs": [],
      "source": []
    },
    {
      "cell_type": "code",
      "execution_count": null,
      "metadata": {
        "id": "ZzqL1HS9okCZ"
      },
      "outputs": [],
      "source": []
    },
    {
      "cell_type": "code",
      "execution_count": null,
      "metadata": {
        "id": "ETZYtu4Poj9j"
      },
      "outputs": [],
      "source": []
    },
    {
      "cell_type": "code",
      "execution_count": null,
      "metadata": {
        "id": "b92hv7XWoj43"
      },
      "outputs": [],
      "source": []
    },
    {
      "cell_type": "code",
      "execution_count": null,
      "metadata": {
        "id": "IHRqbIGeojz5"
      },
      "outputs": [],
      "source": []
    },
    {
      "cell_type": "code",
      "execution_count": null,
      "metadata": {
        "id": "xlZaGPj6ojtm"
      },
      "outputs": [],
      "source": []
    },
    {
      "cell_type": "code",
      "execution_count": null,
      "metadata": {
        "id": "zDU94K2nojp8"
      },
      "outputs": [],
      "source": []
    },
    {
      "cell_type": "code",
      "execution_count": null,
      "metadata": {
        "id": "wt1Yjjrkojlm"
      },
      "outputs": [],
      "source": []
    },
    {
      "cell_type": "code",
      "execution_count": null,
      "metadata": {
        "id": "qlDsPJzDojgx"
      },
      "outputs": [],
      "source": []
    },
    {
      "cell_type": "code",
      "execution_count": null,
      "metadata": {
        "id": "yrCqXtlYojOA"
      },
      "outputs": [],
      "source": []
    },
    {
      "cell_type": "code",
      "execution_count": null,
      "metadata": {
        "id": "yUEE8EoGojKB"
      },
      "outputs": [],
      "source": []
    },
    {
      "cell_type": "code",
      "execution_count": null,
      "metadata": {
        "id": "dRBvjZuHojF4"
      },
      "outputs": [],
      "source": []
    },
    {
      "cell_type": "code",
      "execution_count": null,
      "metadata": {
        "id": "h76p9_yWojCA"
      },
      "outputs": [],
      "source": []
    },
    {
      "cell_type": "code",
      "execution_count": null,
      "metadata": {
        "id": "SI6GwEStoi9m"
      },
      "outputs": [],
      "source": []
    },
    {
      "cell_type": "code",
      "execution_count": null,
      "metadata": {
        "id": "V3Ce250voi5V"
      },
      "outputs": [],
      "source": []
    },
    {
      "cell_type": "code",
      "execution_count": null,
      "metadata": {
        "id": "OSjy0eoEoi1W"
      },
      "outputs": [],
      "source": []
    },
    {
      "cell_type": "code",
      "execution_count": null,
      "metadata": {
        "id": "e3XZubjNoixK"
      },
      "outputs": [],
      "source": []
    },
    {
      "cell_type": "code",
      "execution_count": null,
      "metadata": {
        "id": "K1DtV2VYoitT"
      },
      "outputs": [],
      "source": []
    },
    {
      "cell_type": "code",
      "execution_count": null,
      "metadata": {
        "id": "yHB02eLQoipO"
      },
      "outputs": [],
      "source": []
    },
    {
      "cell_type": "code",
      "execution_count": null,
      "metadata": {
        "id": "7apLFF5ioikl"
      },
      "outputs": [],
      "source": []
    },
    {
      "cell_type": "code",
      "execution_count": null,
      "metadata": {
        "id": "WDoZ02Xooig9"
      },
      "outputs": [],
      "source": []
    },
    {
      "cell_type": "code",
      "execution_count": null,
      "metadata": {
        "id": "xg45q8kLoiWw"
      },
      "outputs": [],
      "source": []
    },
    {
      "cell_type": "code",
      "execution_count": null,
      "metadata": {
        "id": "wiqxc9THoiJk"
      },
      "outputs": [],
      "source": []
    }
  ],
  "metadata": {
    "accelerator": "GPU",
    "colab": {
      "gpuType": "T4",
      "provenance": [],
      "authorship_tag": "ABX9TyOraWzgBSyRlkHvjyvDjZ/d",
      "include_colab_link": true
    },
    "kernelspec": {
      "display_name": "Python 3",
      "name": "python3"
    },
    "language_info": {
      "name": "python"
    }
  },
  "nbformat": 4,
  "nbformat_minor": 0
}